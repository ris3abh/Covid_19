{
 "cells": [
  {
   "cell_type": "code",
   "execution_count": 1,
   "id": "c2f14483",
   "metadata": {},
   "outputs": [],
   "source": [
    "import pandas as pd\n",
    "import numpy as np\n",
    "import matplotlib.pyplot as plt\n",
    "from sklearn.preprocessing import MinMaxScaler\n",
    "from keras.models import Sequential\n",
    "from keras.layers import Dense, LSTM, Dropout, Activation\n",
    "from keras.preprocessing.sequence import TimeseriesGenerator"
   ]
  },
  {
   "cell_type": "code",
   "execution_count": 2,
   "id": "892ecb07",
   "metadata": {},
   "outputs": [],
   "source": [
    "df_recovered = pd.read_csv('../data_set/time_series_covid19_recovered_global.csv')"
   ]
  },
  {
   "cell_type": "code",
   "execution_count": 5,
   "id": "ca541f0c",
   "metadata": {},
   "outputs": [
    {
     "data": {
      "text/html": [
       "<div>\n",
       "<style scoped>\n",
       "    .dataframe tbody tr th:only-of-type {\n",
       "        vertical-align: middle;\n",
       "    }\n",
       "\n",
       "    .dataframe tbody tr th {\n",
       "        vertical-align: top;\n",
       "    }\n",
       "\n",
       "    .dataframe thead th {\n",
       "        text-align: right;\n",
       "    }\n",
       "</style>\n",
       "<table border=\"1\" class=\"dataframe\">\n",
       "  <thead>\n",
       "    <tr style=\"text-align: right;\">\n",
       "      <th></th>\n",
       "      <th>Province/State</th>\n",
       "      <th>Country/Region</th>\n",
       "      <th>Lat</th>\n",
       "      <th>Long</th>\n",
       "      <th>1/22/20</th>\n",
       "      <th>1/23/20</th>\n",
       "      <th>1/24/20</th>\n",
       "      <th>1/25/20</th>\n",
       "      <th>1/26/20</th>\n",
       "      <th>1/27/20</th>\n",
       "      <th>...</th>\n",
       "      <th>7/27/21</th>\n",
       "      <th>7/28/21</th>\n",
       "      <th>7/29/21</th>\n",
       "      <th>7/30/21</th>\n",
       "      <th>7/31/21</th>\n",
       "      <th>8/1/21</th>\n",
       "      <th>8/2/21</th>\n",
       "      <th>8/3/21</th>\n",
       "      <th>8/4/21</th>\n",
       "      <th>8/5/21</th>\n",
       "    </tr>\n",
       "  </thead>\n",
       "  <tbody>\n",
       "    <tr>\n",
       "      <th>0</th>\n",
       "      <td>NaN</td>\n",
       "      <td>Afghanistan</td>\n",
       "      <td>33.93911</td>\n",
       "      <td>67.709953</td>\n",
       "      <td>0</td>\n",
       "      <td>0</td>\n",
       "      <td>0</td>\n",
       "      <td>0</td>\n",
       "      <td>0</td>\n",
       "      <td>0</td>\n",
       "      <td>...</td>\n",
       "      <td>82586</td>\n",
       "      <td>82586</td>\n",
       "      <td>82586</td>\n",
       "      <td>82586</td>\n",
       "      <td>82586</td>\n",
       "      <td>82586</td>\n",
       "      <td>82586</td>\n",
       "      <td>82586</td>\n",
       "      <td>82586</td>\n",
       "      <td>0</td>\n",
       "    </tr>\n",
       "    <tr>\n",
       "      <th>1</th>\n",
       "      <td>NaN</td>\n",
       "      <td>Albania</td>\n",
       "      <td>41.15330</td>\n",
       "      <td>20.168300</td>\n",
       "      <td>0</td>\n",
       "      <td>0</td>\n",
       "      <td>0</td>\n",
       "      <td>0</td>\n",
       "      <td>0</td>\n",
       "      <td>0</td>\n",
       "      <td>...</td>\n",
       "      <td>130166</td>\n",
       "      <td>130174</td>\n",
       "      <td>130187</td>\n",
       "      <td>130205</td>\n",
       "      <td>130222</td>\n",
       "      <td>130243</td>\n",
       "      <td>130256</td>\n",
       "      <td>130291</td>\n",
       "      <td>130314</td>\n",
       "      <td>0</td>\n",
       "    </tr>\n",
       "    <tr>\n",
       "      <th>2</th>\n",
       "      <td>NaN</td>\n",
       "      <td>Algeria</td>\n",
       "      <td>28.03390</td>\n",
       "      <td>1.659600</td>\n",
       "      <td>0</td>\n",
       "      <td>0</td>\n",
       "      <td>0</td>\n",
       "      <td>0</td>\n",
       "      <td>0</td>\n",
       "      <td>0</td>\n",
       "      <td>...</td>\n",
       "      <td>112050</td>\n",
       "      <td>112900</td>\n",
       "      <td>113707</td>\n",
       "      <td>114531</td>\n",
       "      <td>115276</td>\n",
       "      <td>116009</td>\n",
       "      <td>116770</td>\n",
       "      <td>117557</td>\n",
       "      <td>118409</td>\n",
       "      <td>0</td>\n",
       "    </tr>\n",
       "    <tr>\n",
       "      <th>3</th>\n",
       "      <td>NaN</td>\n",
       "      <td>Andorra</td>\n",
       "      <td>42.50630</td>\n",
       "      <td>1.521800</td>\n",
       "      <td>0</td>\n",
       "      <td>0</td>\n",
       "      <td>0</td>\n",
       "      <td>0</td>\n",
       "      <td>0</td>\n",
       "      <td>0</td>\n",
       "      <td>...</td>\n",
       "      <td>14113</td>\n",
       "      <td>14113</td>\n",
       "      <td>14180</td>\n",
       "      <td>14210</td>\n",
       "      <td>14210</td>\n",
       "      <td>14210</td>\n",
       "      <td>14296</td>\n",
       "      <td>14348</td>\n",
       "      <td>14380</td>\n",
       "      <td>0</td>\n",
       "    </tr>\n",
       "    <tr>\n",
       "      <th>4</th>\n",
       "      <td>NaN</td>\n",
       "      <td>Angola</td>\n",
       "      <td>-11.20270</td>\n",
       "      <td>17.873900</td>\n",
       "      <td>0</td>\n",
       "      <td>0</td>\n",
       "      <td>0</td>\n",
       "      <td>0</td>\n",
       "      <td>0</td>\n",
       "      <td>0</td>\n",
       "      <td>...</td>\n",
       "      <td>35742</td>\n",
       "      <td>35964</td>\n",
       "      <td>36025</td>\n",
       "      <td>36708</td>\n",
       "      <td>37255</td>\n",
       "      <td>37397</td>\n",
       "      <td>38360</td>\n",
       "      <td>39389</td>\n",
       "      <td>39582</td>\n",
       "      <td>0</td>\n",
       "    </tr>\n",
       "  </tbody>\n",
       "</table>\n",
       "<p>5 rows × 566 columns</p>\n",
       "</div>"
      ],
      "text/plain": [
       "  Province/State Country/Region       Lat       Long  1/22/20  1/23/20  \\\n",
       "0            NaN    Afghanistan  33.93911  67.709953        0        0   \n",
       "1            NaN        Albania  41.15330  20.168300        0        0   \n",
       "2            NaN        Algeria  28.03390   1.659600        0        0   \n",
       "3            NaN        Andorra  42.50630   1.521800        0        0   \n",
       "4            NaN         Angola -11.20270  17.873900        0        0   \n",
       "\n",
       "   1/24/20  1/25/20  1/26/20  1/27/20  ...  7/27/21  7/28/21  7/29/21  \\\n",
       "0        0        0        0        0  ...    82586    82586    82586   \n",
       "1        0        0        0        0  ...   130166   130174   130187   \n",
       "2        0        0        0        0  ...   112050   112900   113707   \n",
       "3        0        0        0        0  ...    14113    14113    14180   \n",
       "4        0        0        0        0  ...    35742    35964    36025   \n",
       "\n",
       "   7/30/21  7/31/21  8/1/21  8/2/21  8/3/21  8/4/21  8/5/21  \n",
       "0    82586    82586   82586   82586   82586   82586       0  \n",
       "1   130205   130222  130243  130256  130291  130314       0  \n",
       "2   114531   115276  116009  116770  117557  118409       0  \n",
       "3    14210    14210   14210   14296   14348   14380       0  \n",
       "4    36708    37255   37397   38360   39389   39582       0  \n",
       "\n",
       "[5 rows x 566 columns]"
      ]
     },
     "execution_count": 5,
     "metadata": {},
     "output_type": "execute_result"
    }
   ],
   "source": [
    "df_recovered.head()"
   ]
  },
  {
   "cell_type": "code",
   "execution_count": 6,
   "id": "ac2b1428",
   "metadata": {},
   "outputs": [
    {
     "data": {
      "text/plain": [
       "(264, 566)"
      ]
     },
     "execution_count": 6,
     "metadata": {},
     "output_type": "execute_result"
    }
   ],
   "source": [
    "df_recovered.shape"
   ]
  },
  {
   "cell_type": "code",
   "execution_count": 7,
   "id": "bf29bcf2",
   "metadata": {},
   "outputs": [],
   "source": [
    "df_recovered.drop(df_recovered.columns[[565]], axis = 1, inplace = True)"
   ]
  },
  {
   "cell_type": "code",
   "execution_count": 8,
   "id": "c82ad58f",
   "metadata": {},
   "outputs": [
    {
     "data": {
      "text/html": [
       "<div>\n",
       "<style scoped>\n",
       "    .dataframe tbody tr th:only-of-type {\n",
       "        vertical-align: middle;\n",
       "    }\n",
       "\n",
       "    .dataframe tbody tr th {\n",
       "        vertical-align: top;\n",
       "    }\n",
       "\n",
       "    .dataframe thead th {\n",
       "        text-align: right;\n",
       "    }\n",
       "</style>\n",
       "<table border=\"1\" class=\"dataframe\">\n",
       "  <thead>\n",
       "    <tr style=\"text-align: right;\">\n",
       "      <th></th>\n",
       "      <th>confirmed</th>\n",
       "    </tr>\n",
       "  </thead>\n",
       "  <tbody>\n",
       "    <tr>\n",
       "      <th>2020-01-22</th>\n",
       "      <td>0</td>\n",
       "    </tr>\n",
       "    <tr>\n",
       "      <th>2020-01-23</th>\n",
       "      <td>0</td>\n",
       "    </tr>\n",
       "    <tr>\n",
       "      <th>2020-01-24</th>\n",
       "      <td>0</td>\n",
       "    </tr>\n",
       "    <tr>\n",
       "      <th>2020-01-25</th>\n",
       "      <td>0</td>\n",
       "    </tr>\n",
       "    <tr>\n",
       "      <th>2020-01-26</th>\n",
       "      <td>0</td>\n",
       "    </tr>\n",
       "  </tbody>\n",
       "</table>\n",
       "</div>"
      ],
      "text/plain": [
       "            confirmed\n",
       "2020-01-22          0\n",
       "2020-01-23          0\n",
       "2020-01-24          0\n",
       "2020-01-25          0\n",
       "2020-01-26          0"
      ]
     },
     "execution_count": 8,
     "metadata": {},
     "output_type": "execute_result"
    }
   ],
   "source": [
    "df_recovered_country = df_recovered[df_recovered[\"Country/Region\"] == 'India']\n",
    "df_recovered_country = pd.DataFrame(df_recovered_country[df_recovered_country.columns[4:]].sum(),\n",
    "                                    columns=[\"confirmed\"])\n",
    "df_recovered_country.index = pd.to_datetime(df_recovered_country.index,format='%m/%d/%y')\n",
    "df_recovered_country.head()"
   ]
  },
  {
   "cell_type": "code",
   "execution_count": 9,
   "id": "01e45ba7",
   "metadata": {},
   "outputs": [
    {
     "data": {
      "text/html": [
       "<div>\n",
       "<style scoped>\n",
       "    .dataframe tbody tr th:only-of-type {\n",
       "        vertical-align: middle;\n",
       "    }\n",
       "\n",
       "    .dataframe tbody tr th {\n",
       "        vertical-align: top;\n",
       "    }\n",
       "\n",
       "    .dataframe thead th {\n",
       "        text-align: right;\n",
       "    }\n",
       "</style>\n",
       "<table border=\"1\" class=\"dataframe\">\n",
       "  <thead>\n",
       "    <tr style=\"text-align: right;\">\n",
       "      <th></th>\n",
       "      <th>confirmed</th>\n",
       "    </tr>\n",
       "  </thead>\n",
       "  <tbody>\n",
       "    <tr>\n",
       "      <th>2021-07-31</th>\n",
       "      <td>30820521</td>\n",
       "    </tr>\n",
       "    <tr>\n",
       "      <th>2021-08-01</th>\n",
       "      <td>30857467</td>\n",
       "    </tr>\n",
       "    <tr>\n",
       "      <th>2021-08-02</th>\n",
       "      <td>30896354</td>\n",
       "    </tr>\n",
       "    <tr>\n",
       "      <th>2021-08-03</th>\n",
       "      <td>30933022</td>\n",
       "    </tr>\n",
       "    <tr>\n",
       "      <th>2021-08-04</th>\n",
       "      <td>30974748</td>\n",
       "    </tr>\n",
       "  </tbody>\n",
       "</table>\n",
       "</div>"
      ],
      "text/plain": [
       "            confirmed\n",
       "2021-07-31   30820521\n",
       "2021-08-01   30857467\n",
       "2021-08-02   30896354\n",
       "2021-08-03   30933022\n",
       "2021-08-04   30974748"
      ]
     },
     "execution_count": 9,
     "metadata": {},
     "output_type": "execute_result"
    }
   ],
   "source": [
    "df_recovered_country.tail()"
   ]
  },
  {
   "cell_type": "code",
   "execution_count": 12,
   "id": "2449f2e7",
   "metadata": {},
   "outputs": [
    {
     "data": {
      "text/plain": [
       "<AxesSubplot:title={'center':'COVID recovered cases'}>"
      ]
     },
     "execution_count": 12,
     "metadata": {},
     "output_type": "execute_result"
    },
    {
     "data": {
      "image/png": "[encoded data removed]",
      "text/plain": [
       "<Figure size 720x360 with 1 Axes>"
      ]
     },
     "metadata": {
      "needs_background": "light"
     },
     "output_type": "display_data"
    }
   ],
   "source": [
    "df_recovered_country.plot(figsize=(10,5),title=\"COVID recovered cases\")"
   ]
  },
  {
   "cell_type": "code",
   "execution_count": 13,
   "id": "0b3180fe",
   "metadata": {},
   "outputs": [],
   "source": [
    "x = len(df_recovered_country)- 14\n",
    "train=df_recovered_country.iloc[:x]\n",
    "test = df_recovered_country.iloc[x:]"
   ]
  },
  {
   "cell_type": "code",
   "execution_count": 14,
   "id": "238e36b1",
   "metadata": {},
   "outputs": [],
   "source": [
    "scaler = MinMaxScaler()\n",
    "scaler.fit(train)\n",
    "\n",
    "train_scaled = scaler.transform(train)\n",
    "test_scaled = scaler.transform(test)"
   ]
  },
  {
   "cell_type": "code",
   "execution_count": 15,
   "id": "721f64d2",
   "metadata": {},
   "outputs": [
    {
     "name": "stdout",
     "output_type": "stream",
     "text": [
      "Total number of samples in the original training data =  547\n",
      "Total number of samples in the generated data =  540\n",
      "Total number of samples in the original training data =  14\n",
      "Total number of samples in the generated data =  7\n"
     ]
    }
   ],
   "source": [
    "seq_size = 7 \n",
    "n_features = 1 \n",
    "train_generator = TimeseriesGenerator(train_scaled, train_scaled, length = seq_size, batch_size=1)\n",
    "print(\"Total number of samples in the original training data = \", len(train)) \n",
    "print(\"Total number of samples in the generated data = \", len(train_generator)) \n",
    "\n",
    "x,y = train_generator[10] \n",
    "test_generator = TimeseriesGenerator(test_scaled, test_scaled, length=seq_size, batch_size=1)\n",
    "print(\"Total number of samples in the original training data = \", len(test))\n",
    "print(\"Total number of samples in the generated data = \", len(test_generator))"
   ]
  },
  {
   "cell_type": "code",
   "execution_count": 16,
   "id": "f46d6ec4",
   "metadata": {},
   "outputs": [],
   "source": [
    "x,y = test_generator[0]"
   ]
  },
  {
   "cell_type": "code",
   "execution_count": 18,
   "id": "20f63e29",
   "metadata": {},
   "outputs": [],
   "source": [
    "model = Sequential()\n",
    "\n",
    "# Adding the first LSTM layer and some Dropout regularisation\n",
    "model.add(LSTM(units = 30, return_sequences = True, input_shape=(seq_size, n_features)))\n",
    "model.add(Dropout(0.2))\n",
    "\n",
    "# Adding a second LSTM layer nd some Dropout regularisation\n",
    "model.add(LSTM(units = 45, return_sequences = True))\n",
    "model.add(Dropout(0.2))\n",
    "\n",
    "# Adding a third LSTM layer and some Dropout regularisation\n",
    "model.add(LSTM(units = 60, return_sequences = True))\n",
    "\n",
    "# Adding a fourth LSTM layer and some Dropout regularisation\n",
    "model.add(LSTM(units = 30))\n",
    "\n",
    "# Adding the output layer\n",
    "model.add(Dense(units = 1))\n",
    "\n",
    "# Compiling the RNN\n",
    "model.compile(optimizer = 'adam', loss = 'mean_squared_error')"
   ]
  },
  {
   "cell_type": "code",
   "execution_count": 19,
   "id": "9141887c",
   "metadata": {},
   "outputs": [
    {
     "name": "stdout",
     "output_type": "stream",
     "text": [
      "Model: \"sequential_1\"\n",
      "_________________________________________________________________\n",
      "Layer (type)                 Output Shape              Param #   \n",
      "=================================================================\n",
      "lstm (LSTM)                  (None, 7, 30)             3840      \n",
      "_________________________________________________________________\n",
      "dropout (Dropout)            (None, 7, 30)             0         \n",
      "_________________________________________________________________\n",
      "lstm_1 (LSTM)                (None, 7, 45)             13680     \n",
      "_________________________________________________________________\n",
      "dropout_1 (Dropout)          (None, 7, 45)             0         \n",
      "_________________________________________________________________\n",
      "lstm_2 (LSTM)                (None, 7, 60)             25440     \n",
      "_________________________________________________________________\n",
      "lstm_3 (LSTM)                (None, 30)                10920     \n",
      "_________________________________________________________________\n",
      "dense (Dense)                (None, 1)                 31        \n",
      "=================================================================\n",
      "Total params: 53,911\n",
      "Trainable params: 53,911\n",
      "Non-trainable params: 0\n",
      "_________________________________________________________________\n"
     ]
    }
   ],
   "source": [
    "model.summary()"
   ]
  },
  {
   "cell_type": "code",
   "execution_count": 21,
   "id": "253065ea",
   "metadata": {},
   "outputs": [
    {
     "name": "stdout",
     "output_type": "stream",
     "text": [
      "Epoch 1/50\n",
      "10/10 [==============================] - 17s 268ms/step - loss: 0.0616 - val_loss: 0.7152\n",
      "Epoch 2/50\n",
      "10/10 [==============================] - 0s 26ms/step - loss: 0.0476 - val_loss: 0.2969\n",
      "Epoch 3/50\n",
      "10/10 [==============================] - 0s 25ms/step - loss: 0.0675 - val_loss: 0.0665\n",
      "Epoch 4/50\n",
      "10/10 [==============================] - 0s 25ms/step - loss: 0.0345 - val_loss: 0.0058\n",
      "Epoch 5/50\n",
      "10/10 [==============================] - 0s 26ms/step - loss: 0.0156 - val_loss: 0.0118\n",
      "Epoch 6/50\n",
      "10/10 [==============================] - 0s 25ms/step - loss: 0.0021 - val_loss: 0.0012\n",
      "Epoch 7/50\n",
      "10/10 [==============================] - 0s 27ms/step - loss: 0.0147 - val_loss: 0.0278\n",
      "Epoch 8/50\n",
      "10/10 [==============================] - 0s 25ms/step - loss: 0.0027 - val_loss: 0.0365\n",
      "Epoch 9/50\n",
      "10/10 [==============================] - 0s 25ms/step - loss: 0.0049 - val_loss: 0.0053\n",
      "Epoch 10/50\n",
      "10/10 [==============================] - 0s 25ms/step - loss: 0.0034 - val_loss: 0.0393\n",
      "Epoch 11/50\n",
      "10/10 [==============================] - 0s 25ms/step - loss: 0.0053 - val_loss: 0.0041\n",
      "Epoch 12/50\n",
      "10/10 [==============================] - 0s 25ms/step - loss: 0.0064 - val_loss: 0.0027\n",
      "Epoch 13/50\n",
      "10/10 [==============================] - 0s 25ms/step - loss: 0.0037 - val_loss: 0.0010\n",
      "Epoch 14/50\n",
      "10/10 [==============================] - 0s 27ms/step - loss: 8.5573e-04 - val_loss: 0.0142\n",
      "Epoch 15/50\n",
      "10/10 [==============================] - 0s 27ms/step - loss: 0.0012 - val_loss: 0.0051\n",
      "Epoch 16/50\n",
      "10/10 [==============================] - 0s 25ms/step - loss: 0.0018 - val_loss: 0.0100\n",
      "Epoch 17/50\n",
      "10/10 [==============================] - 0s 25ms/step - loss: 7.7602e-04 - val_loss: 5.4800e-04\n",
      "Epoch 18/50\n",
      "10/10 [==============================] - 0s 25ms/step - loss: 4.7323e-04 - val_loss: 1.8905e-08\n",
      "Epoch 19/50\n",
      "10/10 [==============================] - 0s 29ms/step - loss: 0.0023 - val_loss: 6.5391e-04\n",
      "Epoch 20/50\n",
      "10/10 [==============================] - 0s 32ms/step - loss: 0.0023 - val_loss: 0.0010\n",
      "Epoch 21/50\n",
      "10/10 [==============================] - 0s 26ms/step - loss: 5.2911e-04 - val_loss: 0.0173\n",
      "Epoch 22/50\n",
      "10/10 [==============================] - 0s 25ms/step - loss: 0.0030 - val_loss: 0.0074\n",
      "Epoch 23/50\n",
      "10/10 [==============================] - 0s 27ms/step - loss: 0.0021 - val_loss: 4.0206e-05\n",
      "Epoch 24/50\n",
      "10/10 [==============================] - 0s 25ms/step - loss: 0.0023 - val_loss: 2.9075e-04\n",
      "Epoch 25/50\n",
      "10/10 [==============================] - 0s 26ms/step - loss: 0.0014 - val_loss: 3.8643e-04\n",
      "Epoch 26/50\n",
      "10/10 [==============================] - 0s 25ms/step - loss: 3.8619e-04 - val_loss: 3.6126e-04\n",
      "Epoch 27/50\n",
      "10/10 [==============================] - 0s 25ms/step - loss: 1.9316e-04 - val_loss: 4.0126e-04\n",
      "Epoch 28/50\n",
      "10/10 [==============================] - 0s 25ms/step - loss: 1.4157e-04 - val_loss: 0.0039\n",
      "Epoch 29/50\n",
      "10/10 [==============================] - 0s 25ms/step - loss: 0.0021 - val_loss: 4.2757e-04\n",
      "Epoch 30/50\n",
      "10/10 [==============================] - 0s 26ms/step - loss: 4.8001e-04 - val_loss: 0.0031\n",
      "Epoch 31/50\n",
      "10/10 [==============================] - 0s 24ms/step - loss: 3.7937e-04 - val_loss: 0.0030\n",
      "Epoch 32/50\n",
      "10/10 [==============================] - 0s 29ms/step - loss: 9.8379e-04 - val_loss: 3.4702e-04\n",
      "Epoch 33/50\n",
      "10/10 [==============================] - 0s 25ms/step - loss: 4.2556e-04 - val_loss: 0.0012\n",
      "Epoch 34/50\n",
      "10/10 [==============================] - 0s 28ms/step - loss: 4.0408e-04 - val_loss: 4.5234e-04\n",
      "Epoch 35/50\n",
      "10/10 [==============================] - 0s 25ms/step - loss: 0.0010 - val_loss: 0.0059\n",
      "Epoch 36/50\n",
      "10/10 [==============================] - 0s 24ms/step - loss: 2.8477e-04 - val_loss: 0.0042\n",
      "Epoch 37/50\n",
      "10/10 [==============================] - 0s 27ms/step - loss: 0.0017 - val_loss: 0.0104\n",
      "Epoch 38/50\n",
      "10/10 [==============================] - 0s 26ms/step - loss: 0.0026 - val_loss: 0.0042\n",
      "Epoch 39/50\n",
      "10/10 [==============================] - 0s 29ms/step - loss: 0.0033 - val_loss: 0.0199\n",
      "Epoch 40/50\n",
      "10/10 [==============================] - 0s 28ms/step - loss: 8.8424e-04 - val_loss: 0.0226\n",
      "Epoch 41/50\n",
      "10/10 [==============================] - 0s 25ms/step - loss: 7.6725e-04 - val_loss: 0.0240\n",
      "Epoch 42/50\n",
      "10/10 [==============================] - 0s 25ms/step - loss: 4.3071e-04 - val_loss: 0.0382\n",
      "Epoch 43/50\n",
      "10/10 [==============================] - 0s 28ms/step - loss: 3.4210e-04 - val_loss: 0.0105\n",
      "Epoch 44/50\n",
      "10/10 [==============================] - 0s 25ms/step - loss: 5.0315e-04 - val_loss: 0.0239\n",
      "Epoch 45/50\n",
      "10/10 [==============================] - 0s 25ms/step - loss: 0.0047 - val_loss: 0.0035\n",
      "Epoch 46/50\n",
      "10/10 [==============================] - 0s 27ms/step - loss: 3.4394e-04 - val_loss: 0.0106\n",
      "Epoch 47/50\n",
      "10/10 [==============================] - 0s 25ms/step - loss: 0.0017 - val_loss: 0.0025\n",
      "Epoch 48/50\n",
      "10/10 [==============================] - 0s 25ms/step - loss: 4.9396e-04 - val_loss: 0.0032\n",
      "Epoch 49/50\n",
      "10/10 [==============================] - 0s 26ms/step - loss: 4.5172e-04 - val_loss: 8.4836e-05\n",
      "Epoch 50/50\n",
      "10/10 [==============================] - 0s 26ms/step - loss: 4.7621e-04 - val_loss: 0.0047\n"
     ]
    }
   ],
   "source": [
    "history = model.fit(train_generator, \n",
    "                              validation_data=test_generator, \n",
    "                              epochs=50, steps_per_epoch=10)"
   ]
  },
  {
   "cell_type": "code",
   "execution_count": 22,
   "id": "4de42c0f",
   "metadata": {},
   "outputs": [
    {
     "data": {
      "image/png": "[encoded data removed]",
      "text/plain": [
       "<Figure size 432x288 with 1 Axes>"
      ]
     },
     "metadata": {
      "needs_background": "light"
     },
     "output_type": "display_data"
    }
   ],
   "source": [
    "loss = history.history['loss']\n",
    "val_loss = history.history['val_loss']\n",
    "epochs = range(1, len(loss) + 1)\n",
    "plt.plot(epochs, loss, 'y', label='Training loss')\n",
    "plt.plot(epochs, val_loss, 'r', label='Validation loss')\n",
    "plt.title('Training and validation loss')\n",
    "plt.xlabel('Epochs')\n",
    "plt.ylabel('Loss')\n",
    "plt.legend()\n",
    "plt.show()"
   ]
  },
  {
   "cell_type": "code",
   "execution_count": 23,
   "id": "bd376eae",
   "metadata": {},
   "outputs": [],
   "source": [
    "prediction_recovered = []"
   ]
  },
  {
   "cell_type": "code",
   "execution_count": 25,
   "id": "76ddf9a8",
   "metadata": {},
   "outputs": [],
   "source": [
    "current_batch = train_scaled[-seq_size:]\n",
    "current_batch = current_batch.reshape(1, seq_size, n_features)\n",
    "\n",
    "future = 30\n",
    "for i in range(len(test) + future):\n",
    "    current_pred = model.predict(current_batch)[0]\n",
    "    prediction_recovered.append(current_pred)\n",
    "    current_batch = np.append(current_batch[:,1:,:],[[current_pred]],axis=1)\n",
    "\n",
    "rescaled_prediction = scaler.inverse_transform(prediction_recovered)\n",
    "time_series_array = test.index \n",
    "for k in range(0, future):\n",
    "    time_series_array = time_series_array.append(time_series_array[-1:] + pd.DateOffset(1))"
   ]
  },
  {
   "cell_type": "code",
   "execution_count": 27,
   "id": "1fa72653",
   "metadata": {},
   "outputs": [],
   "source": [
    "df_forecast = pd.DataFrame(columns=[\"actual_recovered\",\"predicted\"], index=time_series_array)\n",
    "\n",
    "df_forecast.loc[:,\"predicted\"] = rescaled_prediction[:,0]\n",
    "df_forecast.loc[:,\"actual_recovered\"] = test[\"confirmed\"]"
   ]
  },
  {
   "cell_type": "code",
   "execution_count": 28,
   "id": "abcb0d96",
   "metadata": {},
   "outputs": [
    {
     "data": {
      "text/plain": [
       "<AxesSubplot:title={'center':'Predictions for next 30 days'}>"
      ]
     },
     "execution_count": 28,
     "metadata": {},
     "output_type": "execute_result"
    },
    {
     "data": {
      "image/png": "[encoded data removed]",
      "text/plain": [
       "<Figure size 432x288 with 1 Axes>"
      ]
     },
     "metadata": {
      "needs_background": "light"
     },
     "output_type": "display_data"
    }
   ],
   "source": [
    "df_forecast.plot(title=\"Predictions for next 30 days\")"
   ]
  },
  {
   "cell_type": "code",
   "execution_count": null,
   "id": "ea570c5d",
   "metadata": {},
   "outputs": [],
   "source": []
  }
 ],
 "metadata": {
  "kernelspec": {
   "display_name": "Python 3",
   "language": "python",
   "name": "python3"
  },
  "language_info": {
   "codemirror_mode": {
    "name": "ipython",
    "version": 3
   },
   "file_extension": ".py",
   "mimetype": "text/x-python",
   "name": "python",
   "nbconvert_exporter": "python",
   "pygments_lexer": "ipython3",
   "version": "3.8.5"
  }
 },
 "nbformat": 4,
 "nbformat_minor": 5
}
