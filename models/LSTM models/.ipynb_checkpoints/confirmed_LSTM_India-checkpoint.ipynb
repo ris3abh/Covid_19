{
 "cells": [
  {
   "cell_type": "code",
   "execution_count": 1,
   "id": "adb33e49",
   "metadata": {},
   "outputs": [],
   "source": [
    "import pandas as pd\n",
    "import numpy as np\n",
    "import matplotlib.pyplot as plt\n",
    "from sklearn.preprocessing import MinMaxScaler\n",
    "from keras.models import Sequential\n",
    "from keras.layers import Dense, LSTM, Dropout, Activation\n",
    "from keras.preprocessing.sequence import TimeseriesGenerator"
   ]
  },
  {
   "cell_type": "code",
   "execution_count": 2,
   "id": "04e1fd1d",
   "metadata": {},
   "outputs": [],
   "source": [
    "df_confirmed = pd.read_csv('../data_set/time_series_covid19_confirmed_global.csv')"
   ]
  },
  {
   "cell_type": "code",
   "execution_count": 3,
   "id": "e0531e22",
   "metadata": {},
   "outputs": [
    {
     "data": {
      "text/html": [
       "<div>\n",
       "<style scoped>\n",
       "    .dataframe tbody tr th:only-of-type {\n",
       "        vertical-align: middle;\n",
       "    }\n",
       "\n",
       "    .dataframe tbody tr th {\n",
       "        vertical-align: top;\n",
       "    }\n",
       "\n",
       "    .dataframe thead th {\n",
       "        text-align: right;\n",
       "    }\n",
       "</style>\n",
       "<table border=\"1\" class=\"dataframe\">\n",
       "  <thead>\n",
       "    <tr style=\"text-align: right;\">\n",
       "      <th></th>\n",
       "      <th>Province/State</th>\n",
       "      <th>Country/Region</th>\n",
       "      <th>Lat</th>\n",
       "      <th>Long</th>\n",
       "      <th>1/22/20</th>\n",
       "      <th>1/23/20</th>\n",
       "      <th>1/24/20</th>\n",
       "      <th>1/25/20</th>\n",
       "      <th>1/26/20</th>\n",
       "      <th>1/27/20</th>\n",
       "      <th>...</th>\n",
       "      <th>7/27/21</th>\n",
       "      <th>7/28/21</th>\n",
       "      <th>7/29/21</th>\n",
       "      <th>7/30/21</th>\n",
       "      <th>7/31/21</th>\n",
       "      <th>8/1/21</th>\n",
       "      <th>8/2/21</th>\n",
       "      <th>8/3/21</th>\n",
       "      <th>8/4/21</th>\n",
       "      <th>8/5/21</th>\n",
       "    </tr>\n",
       "  </thead>\n",
       "  <tbody>\n",
       "    <tr>\n",
       "      <th>0</th>\n",
       "      <td>NaN</td>\n",
       "      <td>Afghanistan</td>\n",
       "      <td>33.93911</td>\n",
       "      <td>67.709953</td>\n",
       "      <td>0</td>\n",
       "      <td>0</td>\n",
       "      <td>0</td>\n",
       "      <td>0</td>\n",
       "      <td>0</td>\n",
       "      <td>0</td>\n",
       "      <td>...</td>\n",
       "      <td>145008</td>\n",
       "      <td>145552</td>\n",
       "      <td>145996</td>\n",
       "      <td>146523</td>\n",
       "      <td>146523</td>\n",
       "      <td>146523</td>\n",
       "      <td>147985</td>\n",
       "      <td>148572</td>\n",
       "      <td>148933</td>\n",
       "      <td>149361</td>\n",
       "    </tr>\n",
       "    <tr>\n",
       "      <th>1</th>\n",
       "      <td>NaN</td>\n",
       "      <td>Albania</td>\n",
       "      <td>41.15330</td>\n",
       "      <td>20.168300</td>\n",
       "      <td>0</td>\n",
       "      <td>0</td>\n",
       "      <td>0</td>\n",
       "      <td>0</td>\n",
       "      <td>0</td>\n",
       "      <td>0</td>\n",
       "      <td>...</td>\n",
       "      <td>132922</td>\n",
       "      <td>132952</td>\n",
       "      <td>132999</td>\n",
       "      <td>133036</td>\n",
       "      <td>133081</td>\n",
       "      <td>133121</td>\n",
       "      <td>133146</td>\n",
       "      <td>133211</td>\n",
       "      <td>133310</td>\n",
       "      <td>133442</td>\n",
       "    </tr>\n",
       "    <tr>\n",
       "      <th>2</th>\n",
       "      <td>NaN</td>\n",
       "      <td>Algeria</td>\n",
       "      <td>28.03390</td>\n",
       "      <td>1.659600</td>\n",
       "      <td>0</td>\n",
       "      <td>0</td>\n",
       "      <td>0</td>\n",
       "      <td>0</td>\n",
       "      <td>0</td>\n",
       "      <td>0</td>\n",
       "      <td>...</td>\n",
       "      <td>165204</td>\n",
       "      <td>167131</td>\n",
       "      <td>168668</td>\n",
       "      <td>170189</td>\n",
       "      <td>171392</td>\n",
       "      <td>172564</td>\n",
       "      <td>173922</td>\n",
       "      <td>175229</td>\n",
       "      <td>176724</td>\n",
       "      <td>178013</td>\n",
       "    </tr>\n",
       "    <tr>\n",
       "      <th>3</th>\n",
       "      <td>NaN</td>\n",
       "      <td>Andorra</td>\n",
       "      <td>42.50630</td>\n",
       "      <td>1.521800</td>\n",
       "      <td>0</td>\n",
       "      <td>0</td>\n",
       "      <td>0</td>\n",
       "      <td>0</td>\n",
       "      <td>0</td>\n",
       "      <td>0</td>\n",
       "      <td>...</td>\n",
       "      <td>14586</td>\n",
       "      <td>14586</td>\n",
       "      <td>14655</td>\n",
       "      <td>14678</td>\n",
       "      <td>14678</td>\n",
       "      <td>14678</td>\n",
       "      <td>14747</td>\n",
       "      <td>14766</td>\n",
       "      <td>14797</td>\n",
       "      <td>14809</td>\n",
       "    </tr>\n",
       "    <tr>\n",
       "      <th>4</th>\n",
       "      <td>NaN</td>\n",
       "      <td>Angola</td>\n",
       "      <td>-11.20270</td>\n",
       "      <td>17.873900</td>\n",
       "      <td>0</td>\n",
       "      <td>0</td>\n",
       "      <td>0</td>\n",
       "      <td>0</td>\n",
       "      <td>0</td>\n",
       "      <td>0</td>\n",
       "      <td>...</td>\n",
       "      <td>42110</td>\n",
       "      <td>42288</td>\n",
       "      <td>42486</td>\n",
       "      <td>42646</td>\n",
       "      <td>42777</td>\n",
       "      <td>42815</td>\n",
       "      <td>42970</td>\n",
       "      <td>43070</td>\n",
       "      <td>43158</td>\n",
       "      <td>43269</td>\n",
       "    </tr>\n",
       "  </tbody>\n",
       "</table>\n",
       "<p>5 rows × 566 columns</p>\n",
       "</div>"
      ],
      "text/plain": [
       "  Province/State Country/Region       Lat       Long  1/22/20  1/23/20  \\\n",
       "0            NaN    Afghanistan  33.93911  67.709953        0        0   \n",
       "1            NaN        Albania  41.15330  20.168300        0        0   \n",
       "2            NaN        Algeria  28.03390   1.659600        0        0   \n",
       "3            NaN        Andorra  42.50630   1.521800        0        0   \n",
       "4            NaN         Angola -11.20270  17.873900        0        0   \n",
       "\n",
       "   1/24/20  1/25/20  1/26/20  1/27/20  ...  7/27/21  7/28/21  7/29/21  \\\n",
       "0        0        0        0        0  ...   145008   145552   145996   \n",
       "1        0        0        0        0  ...   132922   132952   132999   \n",
       "2        0        0        0        0  ...   165204   167131   168668   \n",
       "3        0        0        0        0  ...    14586    14586    14655   \n",
       "4        0        0        0        0  ...    42110    42288    42486   \n",
       "\n",
       "   7/30/21  7/31/21  8/1/21  8/2/21  8/3/21  8/4/21  8/5/21  \n",
       "0   146523   146523  146523  147985  148572  148933  149361  \n",
       "1   133036   133081  133121  133146  133211  133310  133442  \n",
       "2   170189   171392  172564  173922  175229  176724  178013  \n",
       "3    14678    14678   14678   14747   14766   14797   14809  \n",
       "4    42646    42777   42815   42970   43070   43158   43269  \n",
       "\n",
       "[5 rows x 566 columns]"
      ]
     },
     "execution_count": 3,
     "metadata": {},
     "output_type": "execute_result"
    }
   ],
   "source": [
    "df_confirmed.head()"
   ]
  },
  {
   "cell_type": "code",
   "execution_count": 4,
   "id": "36903cad",
   "metadata": {},
   "outputs": [
    {
     "data": {
      "text/html": [
       "<div>\n",
       "<style scoped>\n",
       "    .dataframe tbody tr th:only-of-type {\n",
       "        vertical-align: middle;\n",
       "    }\n",
       "\n",
       "    .dataframe tbody tr th {\n",
       "        vertical-align: top;\n",
       "    }\n",
       "\n",
       "    .dataframe thead th {\n",
       "        text-align: right;\n",
       "    }\n",
       "</style>\n",
       "<table border=\"1\" class=\"dataframe\">\n",
       "  <thead>\n",
       "    <tr style=\"text-align: right;\">\n",
       "      <th></th>\n",
       "      <th>confirmed</th>\n",
       "    </tr>\n",
       "  </thead>\n",
       "  <tbody>\n",
       "    <tr>\n",
       "      <th>2020-01-22</th>\n",
       "      <td>0</td>\n",
       "    </tr>\n",
       "    <tr>\n",
       "      <th>2020-01-23</th>\n",
       "      <td>0</td>\n",
       "    </tr>\n",
       "    <tr>\n",
       "      <th>2020-01-24</th>\n",
       "      <td>0</td>\n",
       "    </tr>\n",
       "    <tr>\n",
       "      <th>2020-01-25</th>\n",
       "      <td>0</td>\n",
       "    </tr>\n",
       "    <tr>\n",
       "      <th>2020-01-26</th>\n",
       "      <td>0</td>\n",
       "    </tr>\n",
       "  </tbody>\n",
       "</table>\n",
       "</div>"
      ],
      "text/plain": [
       "            confirmed\n",
       "2020-01-22          0\n",
       "2020-01-23          0\n",
       "2020-01-24          0\n",
       "2020-01-25          0\n",
       "2020-01-26          0"
      ]
     },
     "execution_count": 4,
     "metadata": {},
     "output_type": "execute_result"
    }
   ],
   "source": [
    "df_confirmed_country = df_confirmed[df_confirmed[\"Country/Region\"] == 'India']\n",
    "df_confirmed_country = pd.DataFrame(df_confirmed_country[df_confirmed_country.columns[4:]].sum(),\n",
    "                                    columns=[\"confirmed\"])\n",
    "df_confirmed_country.index = pd.to_datetime(df_confirmed_country.index,format='%m/%d/%y')\n",
    "\n",
    "df_confirmed_country.head()"
   ]
  },
  {
   "cell_type": "code",
   "execution_count": 5,
   "id": "9f799bfa",
   "metadata": {},
   "outputs": [
    {
     "data": {
      "text/plain": [
       "<AxesSubplot:title={'center':'COVID confirmed cases'}>"
      ]
     },
     "execution_count": 5,
     "metadata": {},
     "output_type": "execute_result"
    },
    {
     "data": {
      "image/png": "[encoded data removed]",
      "text/plain": [
       "<Figure size 720x360 with 1 Axes>"
      ]
     },
     "metadata": {
      "needs_background": "light"
     },
     "output_type": "display_data"
    }
   ],
   "source": [
    "df_confirmed_country.plot(figsize=(10,5),title=\"COVID confirmed cases\")"
   ]
  },
  {
   "cell_type": "code",
   "execution_count": 6,
   "id": "fbcefb66",
   "metadata": {},
   "outputs": [],
   "source": [
    "x = len(df_confirmed_country)- 14\n",
    "train=df_confirmed_country.iloc[:x]\n",
    "test = df_confirmed_country.iloc[x:]"
   ]
  },
  {
   "cell_type": "code",
   "execution_count": 7,
   "id": "219cdde1",
   "metadata": {},
   "outputs": [],
   "source": [
    "scaler = MinMaxScaler()\n",
    "scaler.fit(train)\n",
    "\n",
    "train_scaled = scaler.transform(train)\n",
    "test_scaled = scaler.transform(test)"
   ]
  },
  {
   "cell_type": "code",
   "execution_count": 8,
   "id": "1b647306",
   "metadata": {},
   "outputs": [
    {
     "name": "stdout",
     "output_type": "stream",
     "text": [
      "Total number of samples in the original training data =  548\n",
      "Total number of samples in the generated data =  541\n",
      "Total number of samples in the original training data =  14\n",
      "Total number of samples in the generated data =  7\n"
     ]
    }
   ],
   "source": [
    "seq_size = 7 \n",
    "n_features = 1 \n",
    "train_generator = TimeseriesGenerator(train_scaled, train_scaled, length = seq_size, batch_size=1)\n",
    "print(\"Total number of samples in the original training data = \", len(train)) \n",
    "print(\"Total number of samples in the generated data = \", len(train_generator)) \n",
    "\n",
    "x,y = train_generator[10] \n",
    "test_generator = TimeseriesGenerator(test_scaled, test_scaled, length=seq_size, batch_size=1)\n",
    "print(\"Total number of samples in the original training data = \", len(test))\n",
    "print(\"Total number of samples in the generated data = \", len(test_generator))"
   ]
  },
  {
   "cell_type": "code",
   "execution_count": 9,
   "id": "7f64c195",
   "metadata": {},
   "outputs": [],
   "source": [
    "x,y = test_generator[0]"
   ]
  },
  {
   "cell_type": "code",
   "execution_count": 10,
   "id": "db4df43a",
   "metadata": {},
   "outputs": [],
   "source": [
    "regressor = Sequential()\n",
    "\n",
    "# Adding the first LSTM layer and some Dropout regularisation\n",
    "regressor.add(LSTM(units = 30, return_sequences = True, input_shape=(seq_size, n_features)))\n",
    "regressor.add(Dropout(0.2))\n",
    "\n",
    "# Adding a second LSTM layer nd some Dropout regularisation\n",
    "regressor.add(LSTM(units = 45, return_sequences = True))\n",
    "regressor.add(Dropout(0.2))\n",
    "\n",
    "# Adding a third LSTM layer and some Dropout regularisation\n",
    "regressor.add(LSTM(units = 60, return_sequences = True))\n",
    "\n",
    "# Adding a fourth LSTM layer and some Dropout regularisation\n",
    "regressor.add(LSTM(units = 30))\n",
    "\n",
    "# Adding the output layer\n",
    "regressor.add(Dense(units = 1))\n",
    "\n",
    "# Compiling the RNN\n",
    "regressor.compile(optimizer = 'adam', loss = 'mean_squared_error')"
   ]
  },
  {
   "cell_type": "code",
   "execution_count": 11,
   "id": "0b201be6",
   "metadata": {},
   "outputs": [
    {
     "name": "stdout",
     "output_type": "stream",
     "text": [
      "Model: \"sequential\"\n",
      "_________________________________________________________________\n",
      "Layer (type)                 Output Shape              Param #   \n",
      "=================================================================\n",
      "lstm (LSTM)                  (None, 7, 30)             3840      \n",
      "_________________________________________________________________\n",
      "dropout (Dropout)            (None, 7, 30)             0         \n",
      "_________________________________________________________________\n",
      "lstm_1 (LSTM)                (None, 7, 45)             13680     \n",
      "_________________________________________________________________\n",
      "dropout_1 (Dropout)          (None, 7, 45)             0         \n",
      "_________________________________________________________________\n",
      "lstm_2 (LSTM)                (None, 7, 60)             25440     \n",
      "_________________________________________________________________\n",
      "lstm_3 (LSTM)                (None, 30)                10920     \n",
      "_________________________________________________________________\n",
      "dense (Dense)                (None, 1)                 31        \n",
      "=================================================================\n",
      "Total params: 53,911\n",
      "Trainable params: 53,911\n",
      "Non-trainable params: 0\n",
      "_________________________________________________________________\n"
     ]
    }
   ],
   "source": [
    "regressor.summary()"
   ]
  },
  {
   "cell_type": "code",
   "execution_count": 12,
   "id": "9c1dca7a",
   "metadata": {},
   "outputs": [
    {
     "name": "stdout",
     "output_type": "stream",
     "text": [
      "Epoch 1/50\n",
      "10/10 [==============================] - 10s 296ms/step - loss: 0.0784 - val_loss: 0.6560\n",
      "Epoch 2/50\n",
      "10/10 [==============================] - 0s 30ms/step - loss: 0.0251 - val_loss: 0.3086\n",
      "Epoch 3/50\n",
      "10/10 [==============================] - 0s 29ms/step - loss: 0.0400 - val_loss: 0.0780\n",
      "Epoch 4/50\n",
      "10/10 [==============================] - 0s 27ms/step - loss: 0.0370 - val_loss: 0.0652\n",
      "Epoch 5/50\n",
      "10/10 [==============================] - 0s 28ms/step - loss: 0.0344 - val_loss: 0.1855\n",
      "Epoch 6/50\n",
      "10/10 [==============================] - 0s 28ms/step - loss: 0.0041 - val_loss: 0.2515\n",
      "Epoch 7/50\n",
      "10/10 [==============================] - 0s 30ms/step - loss: 0.0397 - val_loss: 0.0084\n",
      "Epoch 8/50\n",
      "10/10 [==============================] - 0s 31ms/step - loss: 0.0033 - val_loss: 0.0125\n",
      "Epoch 9/50\n",
      "10/10 [==============================] - 0s 31ms/step - loss: 0.0038 - val_loss: 0.0116\n",
      "Epoch 10/50\n",
      "10/10 [==============================] - 0s 28ms/step - loss: 0.0022 - val_loss: 0.0316\n",
      "Epoch 11/50\n",
      "10/10 [==============================] - 0s 25ms/step - loss: 0.0192 - val_loss: 0.0751\n",
      "Epoch 12/50\n",
      "10/10 [==============================] - 0s 29ms/step - loss: 0.0057 - val_loss: 0.0045\n",
      "Epoch 13/50\n",
      "10/10 [==============================] - 0s 28ms/step - loss: 0.0015 - val_loss: 3.1480e-04\n",
      "Epoch 14/50\n",
      "10/10 [==============================] - 0s 25ms/step - loss: 0.0042 - val_loss: 0.0207\n",
      "Epoch 15/50\n",
      "10/10 [==============================] - 0s 28ms/step - loss: 0.0072 - val_loss: 4.2034e-04\n",
      "Epoch 16/50\n",
      "10/10 [==============================] - 0s 26ms/step - loss: 0.0016 - val_loss: 3.4862e-08\n",
      "Epoch 17/50\n",
      "10/10 [==============================] - 0s 32ms/step - loss: 6.1965e-04 - val_loss: 0.0020\n",
      "Epoch 18/50\n",
      "10/10 [==============================] - 0s 30ms/step - loss: 5.4703e-04 - val_loss: 0.0049\n",
      "Epoch 19/50\n",
      "10/10 [==============================] - 0s 28ms/step - loss: 0.0023 - val_loss: 0.0015\n",
      "Epoch 20/50\n",
      "10/10 [==============================] - 0s 28ms/step - loss: 0.0025 - val_loss: 7.3491e-05\n",
      "Epoch 21/50\n",
      "10/10 [==============================] - 0s 30ms/step - loss: 0.0019 - val_loss: 6.9770e-04\n",
      "Epoch 22/50\n",
      "10/10 [==============================] - 0s 29ms/step - loss: 8.3042e-04 - val_loss: 0.0012\n",
      "Epoch 23/50\n",
      "10/10 [==============================] - 0s 27ms/step - loss: 3.4604e-04 - val_loss: 0.0229\n",
      "Epoch 24/50\n",
      "10/10 [==============================] - 0s 28ms/step - loss: 0.0020 - val_loss: 4.2946e-04\n",
      "Epoch 25/50\n",
      "10/10 [==============================] - 0s 27ms/step - loss: 0.0016 - val_loss: 3.5713e-04\n",
      "Epoch 26/50\n",
      "10/10 [==============================] - 0s 25ms/step - loss: 0.0019 - val_loss: 0.0078\n",
      "Epoch 27/50\n",
      "10/10 [==============================] - 0s 31ms/step - loss: 0.0019 - val_loss: 6.5982e-04\n",
      "Epoch 28/50\n",
      "10/10 [==============================] - 0s 26ms/step - loss: 0.0025 - val_loss: 0.0015\n",
      "Epoch 29/50\n",
      "10/10 [==============================] - 0s 29ms/step - loss: 7.0056e-04 - val_loss: 9.5152e-04\n",
      "Epoch 30/50\n",
      "10/10 [==============================] - 0s 29ms/step - loss: 6.7081e-04 - val_loss: 0.0076\n",
      "Epoch 31/50\n",
      "10/10 [==============================] - 0s 27ms/step - loss: 5.6529e-04 - val_loss: 0.0029\n",
      "Epoch 32/50\n",
      "10/10 [==============================] - 0s 26ms/step - loss: 8.3891e-04 - val_loss: 0.0033\n",
      "Epoch 33/50\n",
      "10/10 [==============================] - 0s 29ms/step - loss: 6.6447e-04 - val_loss: 0.0010\n",
      "Epoch 34/50\n",
      "10/10 [==============================] - 0s 31ms/step - loss: 0.0014 - val_loss: 3.4884e-05\n",
      "Epoch 35/50\n",
      "10/10 [==============================] - 0s 29ms/step - loss: 4.3834e-04 - val_loss: 0.0159\n",
      "Epoch 36/50\n",
      "10/10 [==============================] - 0s 28ms/step - loss: 0.0095 - val_loss: 0.0455\n",
      "Epoch 37/50\n",
      "10/10 [==============================] - 0s 29ms/step - loss: 0.0034 - val_loss: 0.0213\n",
      "Epoch 38/50\n",
      "10/10 [==============================] - 0s 26ms/step - loss: 0.0057 - val_loss: 2.8329e-06\n",
      "Epoch 39/50\n",
      "10/10 [==============================] - 0s 31ms/step - loss: 0.0033 - val_loss: 0.0169\n",
      "Epoch 40/50\n",
      "10/10 [==============================] - 0s 29ms/step - loss: 0.0031 - val_loss: 0.0019\n",
      "Epoch 41/50\n",
      "10/10 [==============================] - 0s 29ms/step - loss: 0.0031 - val_loss: 0.0049\n",
      "Epoch 42/50\n",
      "10/10 [==============================] - 0s 26ms/step - loss: 6.6905e-04 - val_loss: 0.0300\n",
      "Epoch 43/50\n",
      "10/10 [==============================] - 0s 29ms/step - loss: 0.0027 - val_loss: 0.0017\n",
      "Epoch 44/50\n",
      "10/10 [==============================] - 0s 27ms/step - loss: 0.0015 - val_loss: 8.6081e-04\n",
      "Epoch 45/50\n",
      "10/10 [==============================] - 0s 26ms/step - loss: 0.0012 - val_loss: 2.8761e-04\n",
      "Epoch 46/50\n",
      "10/10 [==============================] - 0s 30ms/step - loss: 0.0016 - val_loss: 1.3762e-05\n",
      "Epoch 47/50\n",
      "10/10 [==============================] - 0s 29ms/step - loss: 8.2853e-04 - val_loss: 0.0020\n",
      "Epoch 48/50\n",
      "10/10 [==============================] - 0s 27ms/step - loss: 9.3106e-04 - val_loss: 0.0092\n",
      "Epoch 49/50\n",
      "10/10 [==============================] - 0s 30ms/step - loss: 0.0011 - val_loss: 0.0049\n",
      "Epoch 50/50\n",
      "10/10 [==============================] - 0s 30ms/step - loss: 8.2362e-04 - val_loss: 0.0011\n"
     ]
    }
   ],
   "source": [
    "history = regressor.fit(train_generator, \n",
    "                              validation_data=test_generator, \n",
    "                              epochs=50, steps_per_epoch=10)"
   ]
  },
  {
   "cell_type": "code",
   "execution_count": 13,
   "id": "1ceb9220",
   "metadata": {},
   "outputs": [
    {
     "data": {
      "image/png": "[encoded data removed]",
      "text/plain": [
       "<Figure size 432x288 with 1 Axes>"
      ]
     },
     "metadata": {
      "needs_background": "light"
     },
     "output_type": "display_data"
    }
   ],
   "source": [
    "loss = history.history['loss']\n",
    "val_loss = history.history['val_loss']\n",
    "epochs = range(1, len(loss) + 1)\n",
    "plt.plot(epochs, loss, 'y', label='Training loss')\n",
    "plt.plot(epochs, val_loss, 'r', label='Validation loss')\n",
    "plt.title('Training and validation loss')\n",
    "plt.xlabel('Epochs')\n",
    "plt.ylabel('Loss')\n",
    "plt.legend()\n",
    "plt.show()"
   ]
  },
  {
   "cell_type": "code",
   "execution_count": 14,
   "id": "349a35d0",
   "metadata": {},
   "outputs": [],
   "source": [
    "prediction_confirmed = []"
   ]
  },
  {
   "cell_type": "code",
   "execution_count": 15,
   "id": "453a5e21",
   "metadata": {},
   "outputs": [],
   "source": [
    "current_batch = train_scaled[-seq_size:]\n",
    "current_batch = current_batch.reshape(1, seq_size, n_features)\n",
    "\n",
    "future = 30\n",
    "for i in range(len(test) + future):\n",
    "    current_pred = regressor.predict(current_batch)[0]\n",
    "    prediction_confirmed.append(current_pred)\n",
    "    current_batch = np.append(current_batch[:,1:,:],[[current_pred]],axis=1)\n",
    "\n",
    "rescaled_prediction = scaler.inverse_transform(prediction_confirmed)\n",
    "time_series_array = test.index \n",
    "for k in range(0, future):\n",
    "    time_series_array = time_series_array.append(time_series_array[-1:] + pd.DateOffset(1))"
   ]
  },
  {
   "cell_type": "code",
   "execution_count": 16,
   "id": "7d34c6a3",
   "metadata": {},
   "outputs": [],
   "source": [
    "df_forecast = pd.DataFrame(columns=[\"actual_confirmed\",\"predicted\"], index=time_series_array)\n",
    "\n",
    "df_forecast.loc[:,\"predicted\"] = rescaled_prediction[:,0]\n",
    "df_forecast.loc[:,\"actual_confirmed\"] = test[\"confirmed\"]"
   ]
  },
  {
   "cell_type": "code",
   "execution_count": 17,
   "id": "7cbbaf6a",
   "metadata": {},
   "outputs": [
    {
     "data": {
      "text/plain": [
       "<AxesSubplot:title={'center':'Predictions for next 30 days'}>"
      ]
     },
     "execution_count": 17,
     "metadata": {},
     "output_type": "execute_result"
    },
    {
     "data": {
      "image/png": "[encoded data removed]",
      "text/plain": [
       "<Figure size 432x288 with 1 Axes>"
      ]
     },
     "metadata": {
      "needs_background": "light"
     },
     "output_type": "display_data"
    }
   ],
   "source": [
    "df_forecast.plot(title=\"Predictions for next 30 days\")"
   ]
  },
  {
   "cell_type": "code",
   "execution_count": 20,
   "id": "76a69779",
   "metadata": {},
   "outputs": [
    {
     "data": {
      "text/html": [
       "<div>\n",
       "<style scoped>\n",
       "    .dataframe tbody tr th:only-of-type {\n",
       "        vertical-align: middle;\n",
       "    }\n",
       "\n",
       "    .dataframe tbody tr th {\n",
       "        vertical-align: top;\n",
       "    }\n",
       "\n",
       "    .dataframe thead th {\n",
       "        text-align: right;\n",
       "    }\n",
       "</style>\n",
       "<table border=\"1\" class=\"dataframe\">\n",
       "  <thead>\n",
       "    <tr style=\"text-align: right;\">\n",
       "      <th></th>\n",
       "      <th>actual_confirmed</th>\n",
       "      <th>predicted</th>\n",
       "    </tr>\n",
       "  </thead>\n",
       "  <tbody>\n",
       "    <tr>\n",
       "      <th>2021-07-23</th>\n",
       "      <td>31293062.0</td>\n",
       "      <td>3.245271e+07</td>\n",
       "    </tr>\n",
       "    <tr>\n",
       "      <th>2021-07-24</th>\n",
       "      <td>31371901.0</td>\n",
       "      <td>3.249378e+07</td>\n",
       "    </tr>\n",
       "    <tr>\n",
       "      <th>2021-07-25</th>\n",
       "      <td>31411262.0</td>\n",
       "      <td>3.255505e+07</td>\n",
       "    </tr>\n",
       "    <tr>\n",
       "      <th>2021-07-26</th>\n",
       "      <td>31440951.0</td>\n",
       "      <td>3.265173e+07</td>\n",
       "    </tr>\n",
       "    <tr>\n",
       "      <th>2021-07-27</th>\n",
       "      <td>31484605.0</td>\n",
       "      <td>3.280052e+07</td>\n",
       "    </tr>\n",
       "  </tbody>\n",
       "</table>\n",
       "</div>"
      ],
      "text/plain": [
       "            actual_confirmed     predicted\n",
       "2021-07-23        31293062.0  3.245271e+07\n",
       "2021-07-24        31371901.0  3.249378e+07\n",
       "2021-07-25        31411262.0  3.255505e+07\n",
       "2021-07-26        31440951.0  3.265173e+07\n",
       "2021-07-27        31484605.0  3.280052e+07"
      ]
     },
     "execution_count": 20,
     "metadata": {},
     "output_type": "execute_result"
    }
   ],
   "source": [
    "df_forecast.head()"
   ]
  },
  {
   "cell_type": "code",
   "execution_count": 21,
   "id": "cdb82846",
   "metadata": {},
   "outputs": [],
   "source": [
    "df_forecast.to_csv('confirmed_forecast.csv')"
   ]
  },
  {
   "cell_type": "code",
   "execution_count": null,
   "id": "e8649954",
   "metadata": {},
   "outputs": [],
   "source": []
  }
 ],
 "metadata": {
  "kernelspec": {
   "display_name": "Python 3",
   "language": "python",
   "name": "python3"
  },
  "language_info": {
   "codemirror_mode": {
    "name": "ipython",
    "version": 3
   },
   "file_extension": ".py",
   "mimetype": "text/x-python",
   "name": "python",
   "nbconvert_exporter": "python",
   "pygments_lexer": "ipython3",
   "version": "3.8.5"
  }
 },
 "nbformat": 4,
 "nbformat_minor": 5
}
