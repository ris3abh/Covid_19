{
 "cells": [
  {
   "cell_type": "code",
   "execution_count": 1,
   "id": "dc028d2c",
   "metadata": {},
   "outputs": [],
   "source": [
    "import pandas as pd\n",
    "import numpy as np\n",
    "import matplotlib.pyplot as plt\n",
    "from sklearn.preprocessing import MinMaxScaler\n",
    "from keras.models import Sequential\n",
    "from keras.layers import Dense, LSTM, Dropout, Activation\n",
    "from keras.preprocessing.sequence import TimeseriesGenerator"
   ]
  },
  {
   "cell_type": "code",
   "execution_count": 3,
   "id": "a2b53b2c",
   "metadata": {},
   "outputs": [],
   "source": [
    "df_deaths = pd.read_csv('../data_set/time_series_covid19_deaths_global.csv')"
   ]
  },
  {
   "cell_type": "code",
   "execution_count": 4,
   "id": "f1f095f2",
   "metadata": {},
   "outputs": [
    {
     "data": {
      "text/html": [
       "<div>\n",
       "<style scoped>\n",
       "    .dataframe tbody tr th:only-of-type {\n",
       "        vertical-align: middle;\n",
       "    }\n",
       "\n",
       "    .dataframe tbody tr th {\n",
       "        vertical-align: top;\n",
       "    }\n",
       "\n",
       "    .dataframe thead th {\n",
       "        text-align: right;\n",
       "    }\n",
       "</style>\n",
       "<table border=\"1\" class=\"dataframe\">\n",
       "  <thead>\n",
       "    <tr style=\"text-align: right;\">\n",
       "      <th></th>\n",
       "      <th>Province/State</th>\n",
       "      <th>Country/Region</th>\n",
       "      <th>Lat</th>\n",
       "      <th>Long</th>\n",
       "      <th>1/22/20</th>\n",
       "      <th>1/23/20</th>\n",
       "      <th>1/24/20</th>\n",
       "      <th>1/25/20</th>\n",
       "      <th>1/26/20</th>\n",
       "      <th>1/27/20</th>\n",
       "      <th>...</th>\n",
       "      <th>7/27/21</th>\n",
       "      <th>7/28/21</th>\n",
       "      <th>7/29/21</th>\n",
       "      <th>7/30/21</th>\n",
       "      <th>7/31/21</th>\n",
       "      <th>8/1/21</th>\n",
       "      <th>8/2/21</th>\n",
       "      <th>8/3/21</th>\n",
       "      <th>8/4/21</th>\n",
       "      <th>8/5/21</th>\n",
       "    </tr>\n",
       "  </thead>\n",
       "  <tbody>\n",
       "    <tr>\n",
       "      <th>0</th>\n",
       "      <td>NaN</td>\n",
       "      <td>Afghanistan</td>\n",
       "      <td>33.93911</td>\n",
       "      <td>67.709953</td>\n",
       "      <td>0</td>\n",
       "      <td>0</td>\n",
       "      <td>0</td>\n",
       "      <td>0</td>\n",
       "      <td>0</td>\n",
       "      <td>0</td>\n",
       "      <td>...</td>\n",
       "      <td>6515</td>\n",
       "      <td>6577</td>\n",
       "      <td>6615</td>\n",
       "      <td>6677</td>\n",
       "      <td>6677</td>\n",
       "      <td>6677</td>\n",
       "      <td>6774</td>\n",
       "      <td>6804</td>\n",
       "      <td>6836</td>\n",
       "      <td>6864</td>\n",
       "    </tr>\n",
       "    <tr>\n",
       "      <th>1</th>\n",
       "      <td>NaN</td>\n",
       "      <td>Albania</td>\n",
       "      <td>41.15330</td>\n",
       "      <td>20.168300</td>\n",
       "      <td>0</td>\n",
       "      <td>0</td>\n",
       "      <td>0</td>\n",
       "      <td>0</td>\n",
       "      <td>0</td>\n",
       "      <td>0</td>\n",
       "      <td>...</td>\n",
       "      <td>2456</td>\n",
       "      <td>2457</td>\n",
       "      <td>2457</td>\n",
       "      <td>2457</td>\n",
       "      <td>2457</td>\n",
       "      <td>2457</td>\n",
       "      <td>2457</td>\n",
       "      <td>2457</td>\n",
       "      <td>2457</td>\n",
       "      <td>2457</td>\n",
       "    </tr>\n",
       "    <tr>\n",
       "      <th>2</th>\n",
       "      <td>NaN</td>\n",
       "      <td>Algeria</td>\n",
       "      <td>28.03390</td>\n",
       "      <td>1.659600</td>\n",
       "      <td>0</td>\n",
       "      <td>0</td>\n",
       "      <td>0</td>\n",
       "      <td>0</td>\n",
       "      <td>0</td>\n",
       "      <td>0</td>\n",
       "      <td>...</td>\n",
       "      <td>4112</td>\n",
       "      <td>4161</td>\n",
       "      <td>4189</td>\n",
       "      <td>4219</td>\n",
       "      <td>4254</td>\n",
       "      <td>4291</td>\n",
       "      <td>4329</td>\n",
       "      <td>4370</td>\n",
       "      <td>4404</td>\n",
       "      <td>4441</td>\n",
       "    </tr>\n",
       "    <tr>\n",
       "      <th>3</th>\n",
       "      <td>NaN</td>\n",
       "      <td>Andorra</td>\n",
       "      <td>42.50630</td>\n",
       "      <td>1.521800</td>\n",
       "      <td>0</td>\n",
       "      <td>0</td>\n",
       "      <td>0</td>\n",
       "      <td>0</td>\n",
       "      <td>0</td>\n",
       "      <td>0</td>\n",
       "      <td>...</td>\n",
       "      <td>127</td>\n",
       "      <td>127</td>\n",
       "      <td>127</td>\n",
       "      <td>128</td>\n",
       "      <td>128</td>\n",
       "      <td>128</td>\n",
       "      <td>128</td>\n",
       "      <td>128</td>\n",
       "      <td>128</td>\n",
       "      <td>128</td>\n",
       "    </tr>\n",
       "    <tr>\n",
       "      <th>4</th>\n",
       "      <td>NaN</td>\n",
       "      <td>Angola</td>\n",
       "      <td>-11.20270</td>\n",
       "      <td>17.873900</td>\n",
       "      <td>0</td>\n",
       "      <td>0</td>\n",
       "      <td>0</td>\n",
       "      <td>0</td>\n",
       "      <td>0</td>\n",
       "      <td>0</td>\n",
       "      <td>...</td>\n",
       "      <td>994</td>\n",
       "      <td>1000</td>\n",
       "      <td>1003</td>\n",
       "      <td>1008</td>\n",
       "      <td>1011</td>\n",
       "      <td>1016</td>\n",
       "      <td>1018</td>\n",
       "      <td>1022</td>\n",
       "      <td>1026</td>\n",
       "      <td>1032</td>\n",
       "    </tr>\n",
       "  </tbody>\n",
       "</table>\n",
       "<p>5 rows × 566 columns</p>\n",
       "</div>"
      ],
      "text/plain": [
       "  Province/State Country/Region       Lat       Long  1/22/20  1/23/20  \\\n",
       "0            NaN    Afghanistan  33.93911  67.709953        0        0   \n",
       "1            NaN        Albania  41.15330  20.168300        0        0   \n",
       "2            NaN        Algeria  28.03390   1.659600        0        0   \n",
       "3            NaN        Andorra  42.50630   1.521800        0        0   \n",
       "4            NaN         Angola -11.20270  17.873900        0        0   \n",
       "\n",
       "   1/24/20  1/25/20  1/26/20  1/27/20  ...  7/27/21  7/28/21  7/29/21  \\\n",
       "0        0        0        0        0  ...     6515     6577     6615   \n",
       "1        0        0        0        0  ...     2456     2457     2457   \n",
       "2        0        0        0        0  ...     4112     4161     4189   \n",
       "3        0        0        0        0  ...      127      127      127   \n",
       "4        0        0        0        0  ...      994     1000     1003   \n",
       "\n",
       "   7/30/21  7/31/21  8/1/21  8/2/21  8/3/21  8/4/21  8/5/21  \n",
       "0     6677     6677    6677    6774    6804    6836    6864  \n",
       "1     2457     2457    2457    2457    2457    2457    2457  \n",
       "2     4219     4254    4291    4329    4370    4404    4441  \n",
       "3      128      128     128     128     128     128     128  \n",
       "4     1008     1011    1016    1018    1022    1026    1032  \n",
       "\n",
       "[5 rows x 566 columns]"
      ]
     },
     "execution_count": 4,
     "metadata": {},
     "output_type": "execute_result"
    }
   ],
   "source": [
    "df_deaths.head()"
   ]
  },
  {
   "cell_type": "code",
   "execution_count": 5,
   "id": "4ab7eedb",
   "metadata": {},
   "outputs": [
    {
     "data": {
      "text/html": [
       "<div>\n",
       "<style scoped>\n",
       "    .dataframe tbody tr th:only-of-type {\n",
       "        vertical-align: middle;\n",
       "    }\n",
       "\n",
       "    .dataframe tbody tr th {\n",
       "        vertical-align: top;\n",
       "    }\n",
       "\n",
       "    .dataframe thead th {\n",
       "        text-align: right;\n",
       "    }\n",
       "</style>\n",
       "<table border=\"1\" class=\"dataframe\">\n",
       "  <thead>\n",
       "    <tr style=\"text-align: right;\">\n",
       "      <th></th>\n",
       "      <th>confirmed</th>\n",
       "    </tr>\n",
       "  </thead>\n",
       "  <tbody>\n",
       "    <tr>\n",
       "      <th>2020-01-22</th>\n",
       "      <td>0</td>\n",
       "    </tr>\n",
       "    <tr>\n",
       "      <th>2020-01-23</th>\n",
       "      <td>0</td>\n",
       "    </tr>\n",
       "    <tr>\n",
       "      <th>2020-01-24</th>\n",
       "      <td>0</td>\n",
       "    </tr>\n",
       "    <tr>\n",
       "      <th>2020-01-25</th>\n",
       "      <td>0</td>\n",
       "    </tr>\n",
       "    <tr>\n",
       "      <th>2020-01-26</th>\n",
       "      <td>0</td>\n",
       "    </tr>\n",
       "  </tbody>\n",
       "</table>\n",
       "</div>"
      ],
      "text/plain": [
       "            confirmed\n",
       "2020-01-22          0\n",
       "2020-01-23          0\n",
       "2020-01-24          0\n",
       "2020-01-25          0\n",
       "2020-01-26          0"
      ]
     },
     "execution_count": 5,
     "metadata": {},
     "output_type": "execute_result"
    }
   ],
   "source": [
    "df_deaths_country = df_deaths[df_confirmed[\"Country/Region\"] == 'India']\n",
    "df_deaths_country = pd.DataFrame(df_deaths_country[df_deaths_country.columns[4:]].sum(),\n",
    "                                    columns=[\"confirmed\"])\n",
    "df_deaths_country.index = pd.to_datetime(df_deaths_country.index,format='%m/%d/%y')\n",
    "\n",
    "df_deaths_country.head()"
   ]
  },
  {
   "cell_type": "code",
   "execution_count": 6,
   "id": "9a990b2c",
   "metadata": {},
   "outputs": [
    {
     "data": {
      "text/plain": [
       "<AxesSubplot:title={'center':'COVID confirmed cases'}>"
      ]
     },
     "execution_count": 6,
     "metadata": {},
     "output_type": "execute_result"
    },
    {
     "data": {
      "image/png": "[encoded data removed]",
      "text/plain": [
       "<Figure size 720x360 with 1 Axes>"
      ]
     },
     "metadata": {
      "needs_background": "light"
     },
     "output_type": "display_data"
    }
   ],
   "source": [
    "df_deaths_country.plot(figsize=(10,5),title=\"COVID confirmed cases\")"
   ]
  },
  {
   "cell_type": "code",
   "execution_count": 7,
   "id": "e9a107c9",
   "metadata": {},
   "outputs": [],
   "source": [
    "x = len(df_deaths_country)- 14\n",
    "train=df_deaths_country.iloc[:x]\n",
    "test = df_deaths_country.iloc[x:]"
   ]
  },
  {
   "cell_type": "code",
   "execution_count": 8,
   "id": "63f493cb",
   "metadata": {},
   "outputs": [],
   "source": [
    "scaler = MinMaxScaler()\n",
    "scaler.fit(train)\n",
    "\n",
    "train_scaled = scaler.transform(train)\n",
    "test_scaled = scaler.transform(test)"
   ]
  },
  {
   "cell_type": "code",
   "execution_count": 9,
   "id": "e974f73a",
   "metadata": {},
   "outputs": [
    {
     "name": "stdout",
     "output_type": "stream",
     "text": [
      "Total number of samples in the original training data =  548\n",
      "Total number of samples in the generated data =  541\n",
      "Total number of samples in the original training data =  14\n",
      "Total number of samples in the generated data =  7\n"
     ]
    }
   ],
   "source": [
    "seq_size = 7 \n",
    "n_features = 1 \n",
    "train_generator = TimeseriesGenerator(train_scaled, train_scaled, length = seq_size, batch_size=1)\n",
    "print(\"Total number of samples in the original training data = \", len(train)) \n",
    "print(\"Total number of samples in the generated data = \", len(train_generator)) \n",
    "\n",
    "x,y = train_generator[10] \n",
    "test_generator = TimeseriesGenerator(test_scaled, test_scaled, length=seq_size, batch_size=1)\n",
    "print(\"Total number of samples in the original training data = \", len(test))\n",
    "print(\"Total number of samples in the generated data = \", len(test_generator))"
   ]
  },
  {
   "cell_type": "code",
   "execution_count": 10,
   "id": "953ef430",
   "metadata": {},
   "outputs": [],
   "source": [
    "x,y = test_generator[0]"
   ]
  },
  {
   "cell_type": "code",
   "execution_count": 11,
   "id": "33d7be25",
   "metadata": {},
   "outputs": [],
   "source": [
    "regressor = Sequential()\n",
    "\n",
    "# Adding the first LSTM layer and some Dropout regularisation\n",
    "regressor.add(LSTM(units = 30, return_sequences = True, input_shape=(seq_size, n_features)))\n",
    "regressor.add(Dropout(0.2))\n",
    "\n",
    "# Adding a second LSTM layer nd some Dropout regularisation\n",
    "regressor.add(LSTM(units = 45, return_sequences = True))\n",
    "regressor.add(Dropout(0.2))\n",
    "\n",
    "# Adding a third LSTM layer and some Dropout regularisation\n",
    "regressor.add(LSTM(units = 60, return_sequences = True))\n",
    "\n",
    "# Adding a fourth LSTM layer and some Dropout regularisation\n",
    "regressor.add(LSTM(units = 30))\n",
    "\n",
    "# Adding the output layer\n",
    "regressor.add(Dense(units = 1))\n",
    "\n",
    "# Compiling the RNN\n",
    "regressor.compile(optimizer = 'adam', loss = 'mean_squared_error')"
   ]
  },
  {
   "cell_type": "code",
   "execution_count": 12,
   "id": "aec61bcb",
   "metadata": {},
   "outputs": [
    {
     "name": "stdout",
     "output_type": "stream",
     "text": [
      "Model: \"sequential\"\n",
      "_________________________________________________________________\n",
      "Layer (type)                 Output Shape              Param #   \n",
      "=================================================================\n",
      "lstm (LSTM)                  (None, 7, 30)             3840      \n",
      "_________________________________________________________________\n",
      "dropout (Dropout)            (None, 7, 30)             0         \n",
      "_________________________________________________________________\n",
      "lstm_1 (LSTM)                (None, 7, 45)             13680     \n",
      "_________________________________________________________________\n",
      "dropout_1 (Dropout)          (None, 7, 45)             0         \n",
      "_________________________________________________________________\n",
      "lstm_2 (LSTM)                (None, 7, 60)             25440     \n",
      "_________________________________________________________________\n",
      "lstm_3 (LSTM)                (None, 30)                10920     \n",
      "_________________________________________________________________\n",
      "dense (Dense)                (None, 1)                 31        \n",
      "=================================================================\n",
      "Total params: 53,911\n",
      "Trainable params: 53,911\n",
      "Non-trainable params: 0\n",
      "_________________________________________________________________\n"
     ]
    }
   ],
   "source": [
    "regressor.summary()"
   ]
  },
  {
   "cell_type": "code",
   "execution_count": 13,
   "id": "42f5fc6d",
   "metadata": {},
   "outputs": [
    {
     "name": "stdout",
     "output_type": "stream",
     "text": [
      "Epoch 1/50\n",
      "10/10 [==============================] - ETA: 0s - loss: 0.037 - 282s 30s/step - loss: 0.0372 - val_loss: 0.6633\n",
      "Epoch 2/50\n",
      "10/10 [==============================] - 6s 372ms/step - loss: 0.0240 - val_loss: 0.1219\n",
      "Epoch 3/50\n",
      "10/10 [==============================] - 0s 27ms/step - loss: 0.0369 - val_loss: 0.1971\n",
      "Epoch 4/50\n",
      "10/10 [==============================] - 0s 25ms/step - loss: 0.0390 - val_loss: 0.0029\n",
      "Epoch 5/50\n",
      "10/10 [==============================] - 0s 29ms/step - loss: 0.0135 - val_loss: 0.0495\n",
      "Epoch 6/50\n",
      "10/10 [==============================] - 0s 26ms/step - loss: 0.0016 - val_loss: 0.0086\n",
      "Epoch 7/50\n",
      "10/10 [==============================] - 0s 31ms/step - loss: 0.0053 - val_loss: 0.0426\n",
      "Epoch 8/50\n",
      "10/10 [==============================] - 0s 28ms/step - loss: 0.0058 - val_loss: 0.0295\n",
      "Epoch 9/50\n",
      "10/10 [==============================] - 0s 26ms/step - loss: 0.0023 - val_loss: 4.9238e-06\n",
      "Epoch 10/50\n",
      "10/10 [==============================] - 0s 26ms/step - loss: 8.4840e-04 - val_loss: 0.0127\n",
      "Epoch 11/50\n",
      "10/10 [==============================] - 0s 24ms/step - loss: 4.5867e-04 - val_loss: 0.0126\n",
      "Epoch 12/50\n",
      "10/10 [==============================] - 0s 27ms/step - loss: 0.0026 - val_loss: 1.5995e-05\n",
      "Epoch 13/50\n",
      "10/10 [==============================] - 0s 25ms/step - loss: 0.0018 - val_loss: 0.0040\n",
      "Epoch 14/50\n",
      "10/10 [==============================] - 0s 28ms/step - loss: 7.5748e-04 - val_loss: 0.0011\n",
      "Epoch 15/50\n",
      "10/10 [==============================] - 0s 28ms/step - loss: 9.3261e-04 - val_loss: 0.0024\n",
      "Epoch 16/50\n",
      "10/10 [==============================] - 0s 24ms/step - loss: 1.3748e-04 - val_loss: 0.0021\n",
      "Epoch 17/50\n",
      "10/10 [==============================] - 0s 26ms/step - loss: 1.0930e-04 - val_loss: 0.0024\n",
      "Epoch 18/50\n",
      "10/10 [==============================] - 0s 30ms/step - loss: 6.6468e-04 - val_loss: 0.0015\n",
      "Epoch 19/50\n",
      "10/10 [==============================] - 0s 25ms/step - loss: 7.0453e-04 - val_loss: 0.0012\n",
      "Epoch 20/50\n",
      "10/10 [==============================] - 0s 26ms/step - loss: 6.2091e-04 - val_loss: 0.0107\n",
      "Epoch 21/50\n",
      "10/10 [==============================] - 0s 31ms/step - loss: 0.0038 - val_loss: 0.0589\n",
      "Epoch 22/50\n",
      "10/10 [==============================] - 0s 28ms/step - loss: 0.0073 - val_loss: 0.0178\n",
      "Epoch 23/50\n",
      "10/10 [==============================] - 0s 29ms/step - loss: 0.0081 - val_loss: 1.5912e-06\n",
      "Epoch 24/50\n",
      "10/10 [==============================] - 0s 28ms/step - loss: 7.7434e-04 - val_loss: 0.0164\n",
      "Epoch 25/50\n",
      "10/10 [==============================] - 0s 28ms/step - loss: 0.0025 - val_loss: 0.0230\n",
      "Epoch 26/50\n",
      "10/10 [==============================] - 0s 26ms/step - loss: 0.0031 - val_loss: 0.0176\n",
      "Epoch 27/50\n",
      "10/10 [==============================] - 0s 30ms/step - loss: 0.0014 - val_loss: 0.0060\n",
      "Epoch 28/50\n",
      "10/10 [==============================] - 0s 30ms/step - loss: 0.0018 - val_loss: 7.9636e-05\n",
      "Epoch 29/50\n",
      "10/10 [==============================] - 0s 25ms/step - loss: 0.0019 - val_loss: 0.0017\n",
      "Epoch 30/50\n",
      "10/10 [==============================] - 0s 31ms/step - loss: 5.1219e-04 - val_loss: 1.0304e-04\n",
      "Epoch 31/50\n",
      "10/10 [==============================] - 0s 31ms/step - loss: 9.4976e-04 - val_loss: 0.0014\n",
      "Epoch 32/50\n",
      "10/10 [==============================] - 0s 30ms/step - loss: 2.6426e-04 - val_loss: 4.0751e-06\n",
      "Epoch 33/50\n",
      "10/10 [==============================] - 0s 29ms/step - loss: 9.5630e-04 - val_loss: 0.0066\n",
      "Epoch 34/50\n",
      "10/10 [==============================] - 0s 28ms/step - loss: 6.4431e-04 - val_loss: 0.0022\n",
      "Epoch 35/50\n",
      "10/10 [==============================] - 0s 29ms/step - loss: 3.0219e-04 - val_loss: 0.0023\n",
      "Epoch 36/50\n",
      "10/10 [==============================] - 0s 25ms/step - loss: 7.3694e-04 - val_loss: 0.0012\n",
      "Epoch 37/50\n",
      "10/10 [==============================] - 0s 29ms/step - loss: 7.7105e-04 - val_loss: 0.0041\n",
      "Epoch 38/50\n",
      "10/10 [==============================] - 0s 28ms/step - loss: 7.7233e-04 - val_loss: 0.0019\n",
      "Epoch 39/50\n",
      "10/10 [==============================] - 0s 26ms/step - loss: 1.2507e-04 - val_loss: 0.0030\n",
      "Epoch 40/50\n",
      "10/10 [==============================] - 0s 27ms/step - loss: 0.0012 - val_loss: 0.0011\n",
      "Epoch 41/50\n",
      "10/10 [==============================] - 0s 31ms/step - loss: 0.0016 - val_loss: 9.4784e-05\n",
      "Epoch 42/50\n",
      "10/10 [==============================] - 0s 29ms/step - loss: 4.6848e-04 - val_loss: 0.0011\n",
      "Epoch 43/50\n",
      "10/10 [==============================] - 0s 26ms/step - loss: 0.0012 - val_loss: 0.0017\n",
      "Epoch 44/50\n",
      "10/10 [==============================] - 0s 30ms/step - loss: 4.1109e-04 - val_loss: 0.0129\n",
      "Epoch 45/50\n",
      "10/10 [==============================] - 0s 25ms/step - loss: 0.0016 - val_loss: 0.0010\n",
      "Epoch 46/50\n",
      "10/10 [==============================] - 0s 30ms/step - loss: 0.0021 - val_loss: 7.8019e-06\n",
      "Epoch 47/50\n",
      "10/10 [==============================] - 0s 30ms/step - loss: 0.0010 - val_loss: 2.4717e-04\n",
      "Epoch 48/50\n",
      "10/10 [==============================] - 0s 29ms/step - loss: 1.4103e-04 - val_loss: 5.9916e-04\n",
      "Epoch 49/50\n",
      "10/10 [==============================] - 0s 28ms/step - loss: 1.3055e-04 - val_loss: 4.3951e-04\n",
      "Epoch 50/50\n",
      "10/10 [==============================] - 0s 26ms/step - loss: 5.4284e-04 - val_loss: 4.7712e-05\n"
     ]
    }
   ],
   "source": [
    "history = regressor.fit(train_generator, \n",
    "                              validation_data=test_generator, \n",
    "                              epochs=50, steps_per_epoch=10)"
   ]
  },
  {
   "cell_type": "code",
   "execution_count": 14,
   "id": "0e71d20a",
   "metadata": {},
   "outputs": [
    {
     "data": {
      "image/png": "[encoded data removed]",
      "text/plain": [
       "<Figure size 432x288 with 1 Axes>"
      ]
     },
     "metadata": {
      "needs_background": "light"
     },
     "output_type": "display_data"
    }
   ],
   "source": [
    "loss = history.history['loss']\n",
    "val_loss = history.history['val_loss']\n",
    "epochs = range(1, len(loss) + 1)\n",
    "plt.plot(epochs, loss, 'y', label='Training loss')\n",
    "plt.plot(epochs, val_loss, 'r', label='Validation loss')\n",
    "plt.title('Training and validation loss')\n",
    "plt.xlabel('Epochs')\n",
    "plt.ylabel('Loss')\n",
    "plt.legend()\n",
    "plt.show()"
   ]
  },
  {
   "cell_type": "code",
   "execution_count": 16,
   "id": "dd198188",
   "metadata": {},
   "outputs": [],
   "source": [
    "prediction_deaths = []"
   ]
  },
  {
   "cell_type": "code",
   "execution_count": 17,
   "id": "6567078d",
   "metadata": {},
   "outputs": [],
   "source": [
    "current_batch = train_scaled[-seq_size:]\n",
    "current_batch = current_batch.reshape(1, seq_size, n_features)\n",
    "\n",
    "future = 30\n",
    "for i in range(len(test) + future):\n",
    "    current_pred = regressor.predict(current_batch)[0]\n",
    "    prediction_deaths.append(current_pred)\n",
    "    current_batch = np.append(current_batch[:,1:,:],[[current_pred]],axis=1)\n",
    "\n",
    "rescaled_prediction = scaler.inverse_transform(prediction_deaths)\n",
    "time_series_array = test.index \n",
    "for k in range(0, future):\n",
    "    time_series_array = time_series_array.append(time_series_array[-1:] + pd.DateOffset(1))"
   ]
  },
  {
   "cell_type": "code",
   "execution_count": 18,
   "id": "3139cf78",
   "metadata": {},
   "outputs": [],
   "source": [
    "df_forecast = pd.DataFrame(columns=[\"actual_deaths\",\"predicted\"], index=time_series_array)\n",
    "\n",
    "df_forecast.loc[:,\"predicted\"] = rescaled_prediction[:,0]\n",
    "df_forecast.loc[:,\"actual_deaths\"] = test[\"confirmed\"]"
   ]
  },
  {
   "cell_type": "code",
   "execution_count": 19,
   "id": "0195ed73",
   "metadata": {},
   "outputs": [
    {
     "data": {
      "text/plain": [
       "<AxesSubplot:title={'center':'Predictions for next 30 days'}>"
      ]
     },
     "execution_count": 19,
     "metadata": {},
     "output_type": "execute_result"
    },
    {
     "data": {
      "image/png": "[encoded data removed]",
      "text/plain": [
       "<Figure size 432x288 with 1 Axes>"
      ]
     },
     "metadata": {
      "needs_background": "light"
     },
     "output_type": "display_data"
    }
   ],
   "source": [
    "df_forecast.plot(title=\"Predictions for next 30 days\")"
   ]
  },
  {
   "cell_type": "code",
   "execution_count": 20,
   "id": "fa16746b",
   "metadata": {},
   "outputs": [],
   "source": [
    "df_forecast.to_csv('deaths_forecast.csv')"
   ]
  }
 ],
 "metadata": {
  "kernelspec": {
   "display_name": "Python 3",
   "language": "python",
   "name": "python3"
  },
  "language_info": {
   "codemirror_mode": {
    "name": "ipython",
    "version": 3
   },
   "file_extension": ".py",
   "mimetype": "text/x-python",
   "name": "python",
   "nbconvert_exporter": "python",
   "pygments_lexer": "ipython3",
   "version": "3.8.5"
  }
 },
 "nbformat": 4,
 "nbformat_minor": 5
}
